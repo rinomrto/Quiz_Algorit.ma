{
 "cells": [
  {
   "cell_type": "markdown",
   "metadata": {},
   "source": [
    "# Quiz: Python for Data Analysts"
   ]
  },
  {
   "cell_type": "code",
   "execution_count": 67,
   "metadata": {},
   "outputs": [],
   "source": [
    "import pandas as pd"
   ]
  },
  {
   "cell_type": "markdown",
   "metadata": {},
   "source": [
    "## Data Pre-Processing"
   ]
  },
  {
   "cell_type": "markdown",
   "metadata": {},
   "source": [
    "The data you will read in is `companies.csv`, a small sample of a a larger CRM (customer relationship management) dataset."
   ]
  },
  {
   "cell_type": "code",
   "execution_count": 68,
   "metadata": {
    "scrolled": false
   },
   "outputs": [
    {
     "data": {
      "text/html": [
       "<div>\n",
       "<style scoped>\n",
       "    .dataframe tbody tr th:only-of-type {\n",
       "        vertical-align: middle;\n",
       "    }\n",
       "\n",
       "    .dataframe tbody tr th {\n",
       "        vertical-align: top;\n",
       "    }\n",
       "\n",
       "    .dataframe thead th {\n",
       "        text-align: right;\n",
       "    }\n",
       "</style>\n",
       "<table border=\"1\" class=\"dataframe\">\n",
       "  <thead>\n",
       "    <tr style=\"text-align: right;\">\n",
       "      <th></th>\n",
       "      <th>Customer Name</th>\n",
       "      <th>Consulting Sales</th>\n",
       "      <th>Software Sales</th>\n",
       "      <th>Forecasted Growth</th>\n",
       "      <th>Returns</th>\n",
       "      <th>Month</th>\n",
       "      <th>Day</th>\n",
       "      <th>Year</th>\n",
       "      <th>Location</th>\n",
       "      <th>Account</th>\n",
       "    </tr>\n",
       "    <tr>\n",
       "      <th>ID</th>\n",
       "      <th></th>\n",
       "      <th></th>\n",
       "      <th></th>\n",
       "      <th></th>\n",
       "      <th></th>\n",
       "      <th></th>\n",
       "      <th></th>\n",
       "      <th></th>\n",
       "      <th></th>\n",
       "      <th></th>\n",
       "    </tr>\n",
       "  </thead>\n",
       "  <tbody>\n",
       "    <tr>\n",
       "      <th>30940</th>\n",
       "      <td>New Media Group</td>\n",
       "      <td>IDR7125000</td>\n",
       "      <td>IDR5500000</td>\n",
       "      <td>30.00%</td>\n",
       "      <td>IDR1,500,000</td>\n",
       "      <td>1</td>\n",
       "      <td>10</td>\n",
       "      <td>2017</td>\n",
       "      <td>Jakarta</td>\n",
       "      <td>Enterprise</td>\n",
       "    </tr>\n",
       "    <tr>\n",
       "      <th>82391</th>\n",
       "      <td>Li and Partners</td>\n",
       "      <td>IDR420000</td>\n",
       "      <td>IDR820000</td>\n",
       "      <td>10.00%</td>\n",
       "      <td>IDR400,000</td>\n",
       "      <td>6</td>\n",
       "      <td>15</td>\n",
       "      <td>2016</td>\n",
       "      <td>Jakarta</td>\n",
       "      <td>Startup</td>\n",
       "    </tr>\n",
       "    <tr>\n",
       "      <th>18374</th>\n",
       "      <td>PT. Kreasi Metrik Solusi</td>\n",
       "      <td>0</td>\n",
       "      <td>IDR550403</td>\n",
       "      <td>25.00%</td>\n",
       "      <td>0</td>\n",
       "      <td>3</td>\n",
       "      <td>29</td>\n",
       "      <td>2012</td>\n",
       "      <td>Surabaya</td>\n",
       "      <td>Enterprise</td>\n",
       "    </tr>\n",
       "    <tr>\n",
       "      <th>57531</th>\n",
       "      <td>PT. Algoritma Data Indonesia</td>\n",
       "      <td>IDR850000</td>\n",
       "      <td>IDR395500</td>\n",
       "      <td>4.00%</td>\n",
       "      <td>0</td>\n",
       "      <td>7</td>\n",
       "      <td>17</td>\n",
       "      <td>2017</td>\n",
       "      <td>Jakarta</td>\n",
       "      <td>Startup</td>\n",
       "    </tr>\n",
       "    <tr>\n",
       "      <th>19002</th>\n",
       "      <td>Palembang Konsultansi</td>\n",
       "      <td>IDR2115000</td>\n",
       "      <td>0</td>\n",
       "      <td>-15.00%</td>\n",
       "      <td>0</td>\n",
       "      <td>2</td>\n",
       "      <td>24</td>\n",
       "      <td>2018</td>\n",
       "      <td>Bandung</td>\n",
       "      <td>Startup</td>\n",
       "    </tr>\n",
       "  </tbody>\n",
       "</table>\n",
       "</div>"
      ],
      "text/plain": [
       "                      Customer Name Consulting Sales Software Sales  \\\n",
       "ID                                                                    \n",
       "30940               New Media Group       IDR7125000     IDR5500000   \n",
       "82391               Li and Partners        IDR420000      IDR820000   \n",
       "18374      PT. Kreasi Metrik Solusi                0      IDR550403   \n",
       "57531  PT. Algoritma Data Indonesia        IDR850000      IDR395500   \n",
       "19002         Palembang Konsultansi       IDR2115000              0   \n",
       "\n",
       "      Forecasted Growth       Returns  Month  Day  Year  Location     Account  \n",
       "ID                                                                             \n",
       "30940            30.00%  IDR1,500,000      1   10  2017   Jakarta  Enterprise  \n",
       "82391            10.00%    IDR400,000      6   15  2016   Jakarta     Startup  \n",
       "18374            25.00%             0      3   29  2012  Surabaya  Enterprise  \n",
       "57531             4.00%             0      7   17  2017   Jakarta     Startup  \n",
       "19002           -15.00%             0      2   24  2018   Bandung     Startup  "
      ]
     },
     "execution_count": 68,
     "metadata": {},
     "output_type": "execute_result"
    }
   ],
   "source": [
    "clients = pd.read_csv(\"data/companies.csv\", index_col=0)\n",
    "clients.head()"
   ]
  },
  {
   "cell_type": "markdown",
   "metadata": {},
   "source": [
    "Unlike our previous datasets, `clients` has some formatting inconsistencies by design: The `Returns` column has comma delimiter and the currency (`IDR`) whereas related columns use values that has omitted the separator.\n",
    "\n",
    "Now let's observe its data types:"
   ]
  },
  {
   "cell_type": "code",
   "execution_count": 79,
   "metadata": {},
   "outputs": [
    {
     "data": {
      "text/plain": [
       "Customer Name        object\n",
       "Consulting Sales      int32\n",
       "Software Sales        int32\n",
       "Forecasted Growth    object\n",
       "Returns              object\n",
       "Month                 int64\n",
       "Day                   int64\n",
       "Year                  int64\n",
       "Location             object\n",
       "Account              object\n",
       "dtype: object"
      ]
     },
     "execution_count": 79,
     "metadata": {},
     "output_type": "execute_result"
    }
   ],
   "source": [
    "clients.dtypes"
   ]
  },
  {
   "cell_type": "markdown",
   "metadata": {},
   "source": [
    "Do you think they have stored as the right types? Can you apply what you have learnt about specifying data type on this new data?"
   ]
  },
  {
   "cell_type": "code",
   "execution_count": 78,
   "metadata": {},
   "outputs": [],
   "source": [
    "## Your Code Below:\n",
    "clients['Consulting Sales'] = clients['Consulting Sales'].astype('int')\n",
    "#clients['Software Sales'] = clients['Software Sales'].astype('int')\n",
    "\n",
    "\n",
    "#df[[\"a\", \"b\"]] = df[[\"a\", \"b\"]].apply(pd.to_numeric)\n",
    "\n",
    "#clients[[\"\",\"\",\"\"]] = clients[[\"Consulting Sales\",\"Software Sales\",\"Returns\"]].astype('int')\n"
   ]
  },
  {
   "cell_type": "markdown",
   "metadata": {},
   "source": [
    "If you tried to directly use the `.astype` function on `Consulting Sales` and `Software Sales`, you will most likely get an error.  To perform arithmetic computations on the numeric columns, we have to drop the 'IDR' currency string and treat these columns as numbers. We'll use pandas built-in `.str.replace()` method for this."
   ]
  },
  {
   "cell_type": "code",
   "execution_count": 71,
   "metadata": {
    "scrolled": true
   },
   "outputs": [
    {
     "data": {
      "text/plain": [
       "ID\n",
       "30940    7125000\n",
       "82391     420000\n",
       "18374          0\n",
       "57531     850000\n",
       "19002    2115000\n",
       "31142     960000\n",
       "Name: Consulting Sales, dtype: object"
      ]
     },
     "execution_count": 71,
     "metadata": {},
     "output_type": "execute_result"
    }
   ],
   "source": [
    "clients['Consulting Sales'].str.replace('IDR','')"
   ]
  },
  {
   "cell_type": "markdown",
   "metadata": {},
   "source": [
    "To apply the function on multiple columns, we can use `apply` method with `lambda` as below:"
   ]
  },
  {
   "cell_type": "code",
   "execution_count": 72,
   "metadata": {},
   "outputs": [],
   "source": [
    "clients[['Consulting Sales','Software Sales','Returns']] =\\\n",
    "clients[['Consulting Sales','Software Sales','Returns']].apply(lambda x: x.str.replace('IDR',''))"
   ]
  },
  {
   "cell_type": "code",
   "execution_count": 65,
   "metadata": {},
   "outputs": [
    {
     "data": {
      "text/html": [
       "<div>\n",
       "<style scoped>\n",
       "    .dataframe tbody tr th:only-of-type {\n",
       "        vertical-align: middle;\n",
       "    }\n",
       "\n",
       "    .dataframe tbody tr th {\n",
       "        vertical-align: top;\n",
       "    }\n",
       "\n",
       "    .dataframe thead th {\n",
       "        text-align: right;\n",
       "    }\n",
       "</style>\n",
       "<table border=\"1\" class=\"dataframe\">\n",
       "  <thead>\n",
       "    <tr style=\"text-align: right;\">\n",
       "      <th></th>\n",
       "      <th>Customer Name</th>\n",
       "      <th>Consulting Sales</th>\n",
       "      <th>Software Sales</th>\n",
       "      <th>Forecasted Growth</th>\n",
       "      <th>Returns</th>\n",
       "      <th>Month</th>\n",
       "      <th>Day</th>\n",
       "      <th>Year</th>\n",
       "      <th>Location</th>\n",
       "      <th>Account</th>\n",
       "    </tr>\n",
       "    <tr>\n",
       "      <th>ID</th>\n",
       "      <th></th>\n",
       "      <th></th>\n",
       "      <th></th>\n",
       "      <th></th>\n",
       "      <th></th>\n",
       "      <th></th>\n",
       "      <th></th>\n",
       "      <th></th>\n",
       "      <th></th>\n",
       "      <th></th>\n",
       "    </tr>\n",
       "  </thead>\n",
       "  <tbody>\n",
       "    <tr>\n",
       "      <th>30940</th>\n",
       "      <td>New Media Group</td>\n",
       "      <td>7125000</td>\n",
       "      <td>5500000</td>\n",
       "      <td>30.00%</td>\n",
       "      <td>1,500,000</td>\n",
       "      <td>1</td>\n",
       "      <td>10</td>\n",
       "      <td>2017</td>\n",
       "      <td>Jakarta</td>\n",
       "      <td>Enterprise</td>\n",
       "    </tr>\n",
       "    <tr>\n",
       "      <th>82391</th>\n",
       "      <td>Li and Partners</td>\n",
       "      <td>420000</td>\n",
       "      <td>820000</td>\n",
       "      <td>10.00%</td>\n",
       "      <td>400,000</td>\n",
       "      <td>6</td>\n",
       "      <td>15</td>\n",
       "      <td>2016</td>\n",
       "      <td>Jakarta</td>\n",
       "      <td>Startup</td>\n",
       "    </tr>\n",
       "    <tr>\n",
       "      <th>18374</th>\n",
       "      <td>PT. Kreasi Metrik Solusi</td>\n",
       "      <td>0</td>\n",
       "      <td>550403</td>\n",
       "      <td>25.00%</td>\n",
       "      <td>0</td>\n",
       "      <td>3</td>\n",
       "      <td>29</td>\n",
       "      <td>2012</td>\n",
       "      <td>Surabaya</td>\n",
       "      <td>Enterprise</td>\n",
       "    </tr>\n",
       "    <tr>\n",
       "      <th>57531</th>\n",
       "      <td>PT. Algoritma Data Indonesia</td>\n",
       "      <td>850000</td>\n",
       "      <td>395500</td>\n",
       "      <td>4.00%</td>\n",
       "      <td>0</td>\n",
       "      <td>7</td>\n",
       "      <td>17</td>\n",
       "      <td>2017</td>\n",
       "      <td>Jakarta</td>\n",
       "      <td>Startup</td>\n",
       "    </tr>\n",
       "    <tr>\n",
       "      <th>19002</th>\n",
       "      <td>Palembang Konsultansi</td>\n",
       "      <td>2115000</td>\n",
       "      <td>0</td>\n",
       "      <td>-15.00%</td>\n",
       "      <td>0</td>\n",
       "      <td>2</td>\n",
       "      <td>24</td>\n",
       "      <td>2018</td>\n",
       "      <td>Bandung</td>\n",
       "      <td>Startup</td>\n",
       "    </tr>\n",
       "  </tbody>\n",
       "</table>\n",
       "</div>"
      ],
      "text/plain": [
       "                      Customer Name  Consulting Sales  Software Sales  \\\n",
       "ID                                                                      \n",
       "30940               New Media Group           7125000         5500000   \n",
       "82391               Li and Partners            420000          820000   \n",
       "18374      PT. Kreasi Metrik Solusi                 0          550403   \n",
       "57531  PT. Algoritma Data Indonesia            850000          395500   \n",
       "19002         Palembang Konsultansi           2115000               0   \n",
       "\n",
       "      Forecasted Growth    Returns  Month  Day  Year  Location     Account  \n",
       "ID                                                                          \n",
       "30940            30.00%  1,500,000      1   10  2017   Jakarta  Enterprise  \n",
       "82391            10.00%    400,000      6   15  2016   Jakarta     Startup  \n",
       "18374            25.00%          0      3   29  2012  Surabaya  Enterprise  \n",
       "57531             4.00%          0      7   17  2017   Jakarta     Startup  \n",
       "19002           -15.00%          0      2   24  2018   Bandung     Startup  "
      ]
     },
     "execution_count": 65,
     "metadata": {},
     "output_type": "execute_result"
    }
   ],
   "source": [
    "clients.head()"
   ]
  },
  {
   "cell_type": "markdown",
   "metadata": {},
   "source": [
    "Go on fill in the blank below to remove the comma (`,`) sign on `Returns`!"
   ]
  },
  {
   "cell_type": "code",
   "execution_count": 73,
   "metadata": {},
   "outputs": [
    {
     "data": {
      "text/plain": [
       "ID\n",
       "30940    1500000\n",
       "82391     400000\n",
       "18374          0\n",
       "57531          0\n",
       "19002          0\n",
       "31142          0\n",
       "Name: Returns, dtype: object"
      ]
     },
     "execution_count": 73,
     "metadata": {},
     "output_type": "execute_result"
    }
   ],
   "source": [
    "## Fill in the blank (___):\n",
    "\n",
    "#clients = \n",
    "clients['Returns'].str.replace(',','')"
   ]
  },
  {
   "cell_type": "markdown",
   "metadata": {},
   "source": [
    "---"
   ]
  },
  {
   "cell_type": "markdown",
   "metadata": {},
   "source": [
    "1. Create a new column in the DataFrame and name it `Total Sales`. This column is a sum of `Consulting Sales` and `Software Sales`. Use `head` or `tail` to peek at the resulting data frame to confirm that the output matches your expectation. What is the sum of the `Total Sales` column?  \n",
    "\n",
    "    *Anda diminta untuk mendapatkan total penjualan secara keseluruhan dengan mengakumulasikan nilai Consulting Sales dan Software Sales dari setiap perusahaan. Buatlah kolom baru bernama Total Sales yang menyimpan total dari kedua nilai tersebut. Berapa total (`sum`) keseluruhan dari `Total Sales`? Tips: Gunakan method `.sum()` pada kolom untuk mengakumulasi nilai totalnya!*\n",
    "\n",
    "    - [ ] 11,470,000\n",
    "    - [x] 19,238,903\n",
    "    - [ ]  7,768,903"
   ]
  },
  {
   "cell_type": "code",
   "execution_count": 101,
   "metadata": {},
   "outputs": [
    {
     "data": {
      "text/html": [
       "<div>\n",
       "<style scoped>\n",
       "    .dataframe tbody tr th:only-of-type {\n",
       "        vertical-align: middle;\n",
       "    }\n",
       "\n",
       "    .dataframe tbody tr th {\n",
       "        vertical-align: top;\n",
       "    }\n",
       "\n",
       "    .dataframe thead th {\n",
       "        text-align: right;\n",
       "    }\n",
       "</style>\n",
       "<table border=\"1\" class=\"dataframe\">\n",
       "  <thead>\n",
       "    <tr style=\"text-align: right;\">\n",
       "      <th></th>\n",
       "      <th>Customer Name</th>\n",
       "      <th>Consulting Sales</th>\n",
       "      <th>Software Sales</th>\n",
       "      <th>Forecasted Growth</th>\n",
       "      <th>Returns</th>\n",
       "      <th>Month</th>\n",
       "      <th>Day</th>\n",
       "      <th>Year</th>\n",
       "      <th>Location</th>\n",
       "      <th>Account</th>\n",
       "      <th>Total Sales</th>\n",
       "    </tr>\n",
       "    <tr>\n",
       "      <th>ID</th>\n",
       "      <th></th>\n",
       "      <th></th>\n",
       "      <th></th>\n",
       "      <th></th>\n",
       "      <th></th>\n",
       "      <th></th>\n",
       "      <th></th>\n",
       "      <th></th>\n",
       "      <th></th>\n",
       "      <th></th>\n",
       "      <th></th>\n",
       "    </tr>\n",
       "  </thead>\n",
       "  <tbody>\n",
       "    <tr>\n",
       "      <th>82391</th>\n",
       "      <td>Li and Partners</td>\n",
       "      <td>420000</td>\n",
       "      <td>820000</td>\n",
       "      <td>10.00%</td>\n",
       "      <td>400,000</td>\n",
       "      <td>6</td>\n",
       "      <td>15</td>\n",
       "      <td>2016</td>\n",
       "      <td>Jakarta</td>\n",
       "      <td>Startup</td>\n",
       "      <td>1240000</td>\n",
       "    </tr>\n",
       "    <tr>\n",
       "      <th>18374</th>\n",
       "      <td>PT. Kreasi Metrik Solusi</td>\n",
       "      <td>0</td>\n",
       "      <td>550403</td>\n",
       "      <td>25.00%</td>\n",
       "      <td>0</td>\n",
       "      <td>3</td>\n",
       "      <td>29</td>\n",
       "      <td>2012</td>\n",
       "      <td>Surabaya</td>\n",
       "      <td>Enterprise</td>\n",
       "      <td>550403</td>\n",
       "    </tr>\n",
       "    <tr>\n",
       "      <th>57531</th>\n",
       "      <td>PT. Algoritma Data Indonesia</td>\n",
       "      <td>850000</td>\n",
       "      <td>395500</td>\n",
       "      <td>4.00%</td>\n",
       "      <td>0</td>\n",
       "      <td>7</td>\n",
       "      <td>17</td>\n",
       "      <td>2017</td>\n",
       "      <td>Jakarta</td>\n",
       "      <td>Startup</td>\n",
       "      <td>1245500</td>\n",
       "    </tr>\n",
       "    <tr>\n",
       "      <th>19002</th>\n",
       "      <td>Palembang Konsultansi</td>\n",
       "      <td>2115000</td>\n",
       "      <td>0</td>\n",
       "      <td>-15.00%</td>\n",
       "      <td>0</td>\n",
       "      <td>2</td>\n",
       "      <td>24</td>\n",
       "      <td>2018</td>\n",
       "      <td>Bandung</td>\n",
       "      <td>Startup</td>\n",
       "      <td>2115000</td>\n",
       "    </tr>\n",
       "    <tr>\n",
       "      <th>31142</th>\n",
       "      <td>PT. Surya Citra Manajemen</td>\n",
       "      <td>960000</td>\n",
       "      <td>503000</td>\n",
       "      <td>19.00%</td>\n",
       "      <td>0</td>\n",
       "      <td>1</td>\n",
       "      <td>19</td>\n",
       "      <td>2019</td>\n",
       "      <td>Jakarta</td>\n",
       "      <td>Enterprise</td>\n",
       "      <td>1463000</td>\n",
       "    </tr>\n",
       "  </tbody>\n",
       "</table>\n",
       "</div>"
      ],
      "text/plain": [
       "                      Customer Name  Consulting Sales  Software Sales  \\\n",
       "ID                                                                      \n",
       "82391               Li and Partners            420000          820000   \n",
       "18374      PT. Kreasi Metrik Solusi                 0          550403   \n",
       "57531  PT. Algoritma Data Indonesia            850000          395500   \n",
       "19002         Palembang Konsultansi           2115000               0   \n",
       "31142     PT. Surya Citra Manajemen            960000          503000   \n",
       "\n",
       "      Forecasted Growth  Returns  Month  Day  Year  Location     Account  \\\n",
       "ID                                                                         \n",
       "82391            10.00%  400,000      6   15  2016   Jakarta     Startup   \n",
       "18374            25.00%        0      3   29  2012  Surabaya  Enterprise   \n",
       "57531             4.00%        0      7   17  2017   Jakarta     Startup   \n",
       "19002           -15.00%        0      2   24  2018   Bandung     Startup   \n",
       "31142            19.00%        0      1   19  2019   Jakarta  Enterprise   \n",
       "\n",
       "       Total Sales  \n",
       "ID                  \n",
       "82391      1240000  \n",
       "18374       550403  \n",
       "57531      1245500  \n",
       "19002      2115000  \n",
       "31142      1463000  "
      ]
     },
     "execution_count": 101,
     "metadata": {},
     "output_type": "execute_result"
    }
   ],
   "source": [
    "clients['Total Sales'] = clients['Consulting Sales'] + clients['Software Sales']\n",
    "clients.tail()"
   ]
  },
  {
   "cell_type": "code",
   "execution_count": 102,
   "metadata": {
    "scrolled": true
   },
   "outputs": [
    {
     "data": {
      "text/plain": [
       "19238903"
      ]
     },
     "execution_count": 102,
     "metadata": {},
     "output_type": "execute_result"
    }
   ],
   "source": [
    "clients['Total Sales'].sum()"
   ]
  },
  {
   "cell_type": "markdown",
   "metadata": {},
   "source": [
    "2. Which company has the biggest `Total Sales` in 2017?  \n",
    "\n",
    "    *Perusahaan manakah yang mendapatkan Total Sales terbesar di tahun 2017? Gunakan metode subset yang telah Anda pelajari!*\n",
    "    \n",
    "    - [x] New Media Group\n",
    "    - [ ] PT. Algoritma Data Indonesia\n",
    "    - [ ] Palembang Konsultansi\n",
    "    "
   ]
  },
  {
   "cell_type": "code",
   "execution_count": 123,
   "metadata": {},
   "outputs": [
    {
     "data": {
      "text/html": [
       "<div>\n",
       "<style scoped>\n",
       "    .dataframe tbody tr th:only-of-type {\n",
       "        vertical-align: middle;\n",
       "    }\n",
       "\n",
       "    .dataframe tbody tr th {\n",
       "        vertical-align: top;\n",
       "    }\n",
       "\n",
       "    .dataframe thead th {\n",
       "        text-align: right;\n",
       "    }\n",
       "</style>\n",
       "<table border=\"1\" class=\"dataframe\">\n",
       "  <thead>\n",
       "    <tr style=\"text-align: right;\">\n",
       "      <th></th>\n",
       "      <th>Customer Name</th>\n",
       "      <th>Consulting Sales</th>\n",
       "      <th>Software Sales</th>\n",
       "      <th>Forecasted Growth</th>\n",
       "      <th>Returns</th>\n",
       "      <th>Month</th>\n",
       "      <th>Day</th>\n",
       "      <th>Year</th>\n",
       "      <th>Location</th>\n",
       "      <th>Account</th>\n",
       "      <th>Total Sales</th>\n",
       "    </tr>\n",
       "    <tr>\n",
       "      <th>ID</th>\n",
       "      <th></th>\n",
       "      <th></th>\n",
       "      <th></th>\n",
       "      <th></th>\n",
       "      <th></th>\n",
       "      <th></th>\n",
       "      <th></th>\n",
       "      <th></th>\n",
       "      <th></th>\n",
       "      <th></th>\n",
       "      <th></th>\n",
       "    </tr>\n",
       "  </thead>\n",
       "  <tbody>\n",
       "    <tr>\n",
       "      <th>30940</th>\n",
       "      <td>New Media Group</td>\n",
       "      <td>7125000</td>\n",
       "      <td>5500000</td>\n",
       "      <td>30.00%</td>\n",
       "      <td>1,500,000</td>\n",
       "      <td>1</td>\n",
       "      <td>10</td>\n",
       "      <td>2017</td>\n",
       "      <td>Jakarta</td>\n",
       "      <td>Enterprise</td>\n",
       "      <td>12625000</td>\n",
       "    </tr>\n",
       "    <tr>\n",
       "      <th>57531</th>\n",
       "      <td>PT. Algoritma Data Indonesia</td>\n",
       "      <td>850000</td>\n",
       "      <td>395500</td>\n",
       "      <td>4.00%</td>\n",
       "      <td>0</td>\n",
       "      <td>7</td>\n",
       "      <td>17</td>\n",
       "      <td>2017</td>\n",
       "      <td>Jakarta</td>\n",
       "      <td>Startup</td>\n",
       "      <td>1245500</td>\n",
       "    </tr>\n",
       "  </tbody>\n",
       "</table>\n",
       "</div>"
      ],
      "text/plain": [
       "                      Customer Name  Consulting Sales  Software Sales  \\\n",
       "ID                                                                      \n",
       "30940               New Media Group           7125000         5500000   \n",
       "57531  PT. Algoritma Data Indonesia            850000          395500   \n",
       "\n",
       "      Forecasted Growth    Returns  Month  Day  Year Location     Account  \\\n",
       "ID                                                                          \n",
       "30940            30.00%  1,500,000      1   10  2017  Jakarta  Enterprise   \n",
       "57531             4.00%          0      7   17  2017  Jakarta     Startup   \n",
       "\n",
       "       Total Sales  \n",
       "ID                  \n",
       "30940     12625000  \n",
       "57531      1245500  "
      ]
     },
     "execution_count": 123,
     "metadata": {},
     "output_type": "execute_result"
    }
   ],
   "source": [
    "clients[(clients['Year'] == 2017)].head(10)"
   ]
  },
  {
   "cell_type": "markdown",
   "metadata": {},
   "source": [
    "3. Which are the two companies that has sales exceeding 1,500,000 IDR in the sampled data frame?  \n",
    "\n",
    "    *Ada dua perusahaan yang nilai penjualannya melebihi 1,500,000 IDR pada data sample tersebut. Perusahaan mana sajakah itu?*\n",
    "\n",
    "    - [ ] Palembang Konsultansi & PT. Surya Citra Manajemen\n",
    "    - [ ] PT. Surya Citra Manajemen & New Media Group\n",
    "    - [x] Palembang Konsultansi & New Media Group\n",
    "    "
   ]
  },
  {
   "cell_type": "code",
   "execution_count": 109,
   "metadata": {},
   "outputs": [
    {
     "data": {
      "text/html": [
       "<div>\n",
       "<style scoped>\n",
       "    .dataframe tbody tr th:only-of-type {\n",
       "        vertical-align: middle;\n",
       "    }\n",
       "\n",
       "    .dataframe tbody tr th {\n",
       "        vertical-align: top;\n",
       "    }\n",
       "\n",
       "    .dataframe thead th {\n",
       "        text-align: right;\n",
       "    }\n",
       "</style>\n",
       "<table border=\"1\" class=\"dataframe\">\n",
       "  <thead>\n",
       "    <tr style=\"text-align: right;\">\n",
       "      <th></th>\n",
       "      <th>Customer Name</th>\n",
       "      <th>Consulting Sales</th>\n",
       "      <th>Software Sales</th>\n",
       "      <th>Forecasted Growth</th>\n",
       "      <th>Returns</th>\n",
       "      <th>Month</th>\n",
       "      <th>Day</th>\n",
       "      <th>Year</th>\n",
       "      <th>Location</th>\n",
       "      <th>Account</th>\n",
       "      <th>Total Sales</th>\n",
       "    </tr>\n",
       "    <tr>\n",
       "      <th>ID</th>\n",
       "      <th></th>\n",
       "      <th></th>\n",
       "      <th></th>\n",
       "      <th></th>\n",
       "      <th></th>\n",
       "      <th></th>\n",
       "      <th></th>\n",
       "      <th></th>\n",
       "      <th></th>\n",
       "      <th></th>\n",
       "      <th></th>\n",
       "    </tr>\n",
       "  </thead>\n",
       "  <tbody>\n",
       "    <tr>\n",
       "      <th>30940</th>\n",
       "      <td>New Media Group</td>\n",
       "      <td>7125000</td>\n",
       "      <td>5500000</td>\n",
       "      <td>30.00%</td>\n",
       "      <td>1,500,000</td>\n",
       "      <td>1</td>\n",
       "      <td>10</td>\n",
       "      <td>2017</td>\n",
       "      <td>Jakarta</td>\n",
       "      <td>Enterprise</td>\n",
       "      <td>12625000</td>\n",
       "    </tr>\n",
       "    <tr>\n",
       "      <th>19002</th>\n",
       "      <td>Palembang Konsultansi</td>\n",
       "      <td>2115000</td>\n",
       "      <td>0</td>\n",
       "      <td>-15.00%</td>\n",
       "      <td>0</td>\n",
       "      <td>2</td>\n",
       "      <td>24</td>\n",
       "      <td>2018</td>\n",
       "      <td>Bandung</td>\n",
       "      <td>Startup</td>\n",
       "      <td>2115000</td>\n",
       "    </tr>\n",
       "  </tbody>\n",
       "</table>\n",
       "</div>"
      ],
      "text/plain": [
       "               Customer Name  Consulting Sales  Software Sales  \\\n",
       "ID                                                               \n",
       "30940        New Media Group           7125000         5500000   \n",
       "19002  Palembang Konsultansi           2115000               0   \n",
       "\n",
       "      Forecasted Growth    Returns  Month  Day  Year Location     Account  \\\n",
       "ID                                                                          \n",
       "30940            30.00%  1,500,000      1   10  2017  Jakarta  Enterprise   \n",
       "19002           -15.00%          0      2   24  2018  Bandung     Startup   \n",
       "\n",
       "       Total Sales  \n",
       "ID                  \n",
       "30940     12625000  \n",
       "19002      2115000  "
      ]
     },
     "execution_count": 109,
     "metadata": {},
     "output_type": "execute_result"
    }
   ],
   "source": [
    "#rice[rice.quantity >= 8].head()\n",
    "#rice[(rice['format'] != 'minimarket')]\n",
    "clients[(clients['Total Sales'] > 1500000)].head()"
   ]
  },
  {
   "cell_type": "markdown",
   "metadata": {},
   "source": [
    "4. The simplest way to ignore the outliers of sample data and find its central value is by using median instead of mean. By ignoring the outliers of `Total Sales`, what is its central value?  \n",
    "\n",
    "    *Dalam menentukan rata-rata / pusat data, penggunaan median seringkali lebih relevan dibandingkan dengan mean, karena mean lebih mudah terpengaruh terhadap nilai-nilai ekstrim atau outlier. Jika kita tidak ingin mendapatkan pusat data yang terpengaruh outlier pada Total Sales, berapakah nilai pusat data yang kita gunakan?*\n",
    "    \n",
    "    - [ ] 1,354,250\n",
    "    - [ ] 1,515,875\n",
    "    - [ ] 3,737,700"
   ]
  },
  {
   "cell_type": "markdown",
   "metadata": {},
   "source": [
    "5. If we want to perform subsetting on `clients` by explicitly stating the `ID`, which subsetting method is more appropriate?  \n",
    "\n",
    "    *Jika kita ingin melakukan operasi subsetting pada data `clients` dimana dalam prosesnya kita mencantumkan ID perusahaan secara eksplisit, metode subsetting manakah yang paling sesuai?*\n",
    "\n",
    "    - [x] `clients.loc[57531, :]`\n",
    "    - [ ] `clients.iloc[57531, : ]` #seharusnya klau menggunakan iloc menyebut nama datanya.\n",
    "    - [ ] `clients[57531, : ]` #tdk ada loc/ilocny"
   ]
  },
  {
   "cell_type": "code",
   "execution_count": 113,
   "metadata": {},
   "outputs": [
    {
     "data": {
      "text/plain": [
       "Customer Name        PT. Algoritma Data Indonesia\n",
       "Consulting Sales                           850000\n",
       "Software Sales                             395500\n",
       "Forecasted Growth                           4.00%\n",
       "Returns                                         0\n",
       "Month                                           7\n",
       "Day                                            17\n",
       "Year                                         2017\n",
       "Location                                  Jakarta\n",
       "Account                                   Startup\n",
       "Total Sales                               1245500\n",
       "Name: 57531, dtype: object"
      ]
     },
     "execution_count": 113,
     "metadata": {},
     "output_type": "execute_result"
    }
   ],
   "source": [
    "clients.loc[57531, :]"
   ]
  },
  {
   "cell_type": "markdown",
   "metadata": {},
   "source": [
    "6. Say, we need to find clients of Enterprise account which specifically located in Jakarta. Try to fill in the blank codes to perform the right conditional subsetting:  `clients[________ _ ________]`:\n",
    "\n",
    "    *Apabila kita ingin mendapatkan data dari client dengan akun Enterprise yang berlokasi di Jakarta, syntax subset yang akan kita gunakan adalah clients[________ _ ________]. (Isilah nilai di dalam kurung siku!)*\n",
    "\n",
    "    - [ ] (clients.Location == \"Jakarta\") | (clients.Account == \"Enterprise\") # atau / salah satu\n",
    "    - [ ] clients.Location == \"Jakarta\" & clients.Account == \"Enterprise\"\n",
    "    - [x] (clients.Location == \"Jakarta\") & (clients.Account == \"Enterprise\")\n",
    "    - [ ] clients.Location == \"Jakarta\" | clients.Account == \"Enterprise\" "
   ]
  },
  {
   "cell_type": "code",
   "execution_count": 115,
   "metadata": {},
   "outputs": [
    {
     "data": {
      "text/plain": [
       "ID\n",
       "30940     True\n",
       "82391    False\n",
       "18374    False\n",
       "57531    False\n",
       "19002    False\n",
       "31142     True\n",
       "dtype: bool"
      ]
     },
     "execution_count": 115,
     "metadata": {},
     "output_type": "execute_result"
    }
   ],
   "source": [
    "(clients.Location == \"Jakarta\") & (clients.Account == \"Enterprise\")"
   ]
  }
 ],
 "metadata": {
  "kernelspec": {
   "display_name": "olympus-da",
   "language": "python",
   "name": "olympus-da"
  },
  "language_info": {
   "codemirror_mode": {
    "name": "ipython",
    "version": 3
   },
   "file_extension": ".py",
   "mimetype": "text/x-python",
   "name": "python",
   "nbconvert_exporter": "python",
   "pygments_lexer": "ipython3",
   "version": "3.8.10"
  },
  "latex_envs": {
   "LaTeX_envs_menu_present": true,
   "autoclose": false,
   "autocomplete": true,
   "bibliofile": "biblio.bib",
   "cite_by": "apalike",
   "current_citInitial": 1,
   "eqLabelWithNumbers": true,
   "eqNumInitial": 1,
   "hotkeys": {
    "equation": "Ctrl-E",
    "itemize": "Ctrl-I"
   },
   "labels_anchors": false,
   "latex_user_defs": false,
   "report_style_numbering": false,
   "user_envs_cfg": false
  },
  "toc": {
   "base_numbering": 1,
   "nav_menu": {},
   "number_sections": true,
   "sideBar": true,
   "skip_h1_title": false,
   "title_cell": "Table of Contents",
   "title_sidebar": "Contents",
   "toc_cell": false,
   "toc_position": {},
   "toc_section_display": true,
   "toc_window_display": false
  }
 },
 "nbformat": 4,
 "nbformat_minor": 2
}
